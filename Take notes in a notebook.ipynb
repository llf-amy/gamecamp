{
 "cells": [
  {
   "cell_type": "markdown",
   "metadata": {},
   "source": [
    "## Bonus points for taking notes in a notebook\n",
    "\n",
    "The best way to document what you're doing is in a jupyter notebook. If you've never used notebooks before, make sure you have it installed in whatever virtual environment you're using. \n",
    "\n",
    "If you're using anaconda, from your kivy environment you'll want to `conda install jupyter notebook`. Otherwise, `pip install jupyter notebook` should work (for more details see http://jupyter.readthedocs.io/en/latest/install.html). Once it's installed, call `jupyter notebook` from the comand line and it will launch notebooks from your web browser of choice. \n",
    "\n",
    "Esc+H, will give you access to the help menu with all the keyboard shortcuts. Learn these. Use them. \n",
    "\n",
    "In short there are 2 main kinds of cells, Markdown (like this cell) and Code (like the one below this one). Shift+Enter will run any cells. Here's the basics that you'll want to know for documenting things. \n",
    "\n",
    "The main point is to try and tell your story, including all the tears and blood as well as triumphs in the process. \n",
    "\n",
    "You can use magics in the cell. \n",
    "* `!`: you can follow this magic up with any bash command you want. \n",
    "* `%load filename.ext`: loads filename.ext into the cell. **Warning**: you'll want to be careful to change this to Markdown cell after you load it, when you load a kivy related file since the notebook will die on your kivy code. \n",
    "* `%%file filename.ext`: (overwrites) filename.ext this will let you edit your code from a notebook if you want.\n"
   ]
  },
  {
   "cell_type": "code",
   "execution_count": null,
   "metadata": {
    "collapsed": false
   },
   "outputs": [],
   "source": [
    "!ls -la"
   ]
  },
  {
   "cell_type": "markdown",
   "metadata": {},
   "source": [
    "You main use of the above will probably be to run your game eg. `!python main.py` (well, there's no main.py here...)"
   ]
  },
  {
   "cell_type": "code",
   "execution_count": null,
   "metadata": {
    "collapsed": false
   },
   "outputs": [],
   "source": [
    "%%file newfile.txt\n",
    "\n",
    "Writing some stuff..."
   ]
  },
  {
   "cell_type": "code",
   "execution_count": null,
   "metadata": {
    "collapsed": false
   },
   "outputs": [],
   "source": [
    "# load file you just made. \n",
    "%load newfile.txt"
   ]
  },
  {
   "cell_type": "code",
   "execution_count": null,
   "metadata": {
    "collapsed": true
   },
   "outputs": [],
   "source": [
    "%%file newfile.txt\n",
    " \n",
    "Overwriting the text. "
   ]
  },
  {
   "cell_type": "code",
   "execution_count": null,
   "metadata": {
    "collapsed": true
   },
   "outputs": [],
   "source": [
    "#take a look at the changed file\n",
    "%load newfile.txt"
   ]
  },
  {
   "cell_type": "markdown",
   "metadata": {},
   "source": [
    "And you can include screenshots of your progress (you'll want screenshots of what your game looks like instead of this boring screenshot). "
   ]
  },
  {
   "cell_type": "code",
   "execution_count": null,
   "metadata": {
    "collapsed": false
   },
   "outputs": [],
   "source": [
    "%%html\n",
    "<img src=\"assets/demo-screenshot.png\" width=800 />"
   ]
  },
  {
   "cell_type": "markdown",
   "metadata": {},
   "source": [
    "That's all for now! Let Amy know if you want to know how to do more :)"
   ]
  },
  {
   "cell_type": "code",
   "execution_count": null,
   "metadata": {
    "collapsed": true
   },
   "outputs": [],
   "source": []
  }
 ],
 "metadata": {
  "kernelspec": {
   "display_name": "Python 2",
   "language": "python",
   "name": "python2"
  },
  "language_info": {
   "codemirror_mode": {
    "name": "ipython",
    "version": 2
   },
   "file_extension": ".py",
   "mimetype": "text/x-python",
   "name": "python",
   "nbconvert_exporter": "python",
   "pygments_lexer": "ipython2",
   "version": "2.7.11"
  }
 },
 "nbformat": 4,
 "nbformat_minor": 0
}
