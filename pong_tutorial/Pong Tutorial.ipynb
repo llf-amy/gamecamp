{
 "cells": [
  {
   "cell_type": "markdown",
   "metadata": {},
   "source": [
    "# Pong Tutorial\n",
    "\n",
    "See https://kivy.org/docs/tutorials/pong.html for the original. \n",
    "\n",
    "First off, you'll need to make sure that you have Kivy installed. \n",
    "\n",
    "**TODO** Insert instructions here for where to go for Kivy installation instructions. \n",
    "\n",
    "**NEXT** Basic notebook instructions."
   ]
  },
  {
   "cell_type": "markdown",
   "metadata": {},
   "source": [
    "## Getting Started\n",
    "\n",
    "Let’s start by getting a really simple Kivy app up and running. Create a directory for the game and a file named main.py"
   ]
  },
  {
   "cell_type": "code",
   "execution_count": 13,
   "metadata": {
    "collapsed": false
   },
   "outputs": [
    {
     "name": "stdout",
     "output_type": "stream",
     "text": [
      "/Users/amywooding/python-code/gamecamp/pong_tutorial\r\n"
     ]
    }
   ],
   "source": [
    "!pwd"
   ]
  },
  {
   "cell_type": "code",
   "execution_count": 6,
   "metadata": {
    "collapsed": false
   },
   "outputs": [],
   "source": [
    "%% file main.py\n",
    "\n",
    "from kivy.app import App\n",
    "from kivy.uix.widget import Widget\n",
    "\n",
    "class PongGame(Widget):\n",
    "    pass\n",
    "\n",
    "class PongApp(App):\n",
    "    def build(self):\n",
    "        return PongGame()\n",
    "    \n",
    "if __name__ == '__main__':\n",
    "    PongApp().run()"
   ]
  },
  {
   "cell_type": "code",
   "execution_count": 4,
   "metadata": {
    "collapsed": false
   },
   "outputs": [
    {
     "name": "stdout",
     "output_type": "stream",
     "text": [
      "python: can't open file 'main.py': [Errno 2] No such file or directory\r\n"
     ]
    }
   ],
   "source": [
    "!python main.py"
   ]
  },
  {
   "cell_type": "code",
   "execution_count": null,
   "metadata": {
    "collapsed": true
   },
   "outputs": [],
   "source": []
  }
 ],
 "metadata": {
  "kernelspec": {
   "display_name": "Python 2",
   "language": "python",
   "name": "python2"
  },
  "language_info": {
   "codemirror_mode": {
    "name": "ipython",
    "version": 2
   },
   "file_extension": ".py",
   "mimetype": "text/x-python",
   "name": "python",
   "nbconvert_exporter": "python",
   "pygments_lexer": "ipython2",
   "version": "2.7.11"
  }
 },
 "nbformat": 4,
 "nbformat_minor": 0
}
