{
 "cells": [
  {
   "cell_type": "markdown",
   "metadata": {},
   "source": [
    "# Pong Tutorial\n",
    "\n",
    "See https://kivy.org/docs/tutorials/pong.html for the original. \n",
    "\n",
    "First off, you'll need to make sure that you have Kivy installed. You can follow the instructions at https://kivy.org/docs/gettingstarted/installation.html, or if you'd like to set up a Development version, then check out https://github.com/learnleapfly/gamecamp/wiki/Setting-up-a-Kivy-Development-Environment.\n",
    "\n",
    "Since you've made it this far, we'll assume that you have jupyter notebooks up and running successfully. "
   ]
  },
  {
   "cell_type": "markdown",
   "metadata": {},
   "source": [
    "## A brief primer on notebooks\n",
    "\n",
    "Since you'll be going through a notebook for this tutorial, it helps if you know how to run through the notebook. The number one thing you need to know is that `Shift+Enter` will run the current cell of the notebook. \n",
    "\n",
    "Also `Esc+H`, will give you access to the help menu with all the keyboard shortcuts. Learn these. Use them.\n",
    "\n",
    "In short there are 2 main kinds of cells, Markdown (like this cell) and Code (like the one below this one). \n",
    "\n",
    "There are *special* characters in notebooks, that allow you do magic, cell magic:\n",
    "\n",
    "* `!`: you can follow this magic up with anything you want to run from the command line (we'll be using `!python main.py` extensively).\n",
    "* `%load filename.ext`: loads `filename.ext` into the cell. Warning: you'll want to be careful to change this to Markdown cell after you load it, when you load a kivy related file since the notebook will die on your kivy code.\n",
    "* `%%file filename.ext`: (overwrites) `filename.ext` this will let you edit your code from a notebook if you want."
   ]
  },
  {
   "cell_type": "code",
   "execution_count": null,
   "metadata": {
    "collapsed": true
   },
   "outputs": [],
   "source": [
    "!pwd"
   ]
  },
  {
   "cell_type": "markdown",
   "metadata": {},
   "source": [
    "## Getting Started\n",
    "\n",
    "Let’s start by getting a really simple Kivy app up and running. While the code in the notebook is fully functional and walks through the tutorial step-by-step, we recommend creating **your own version** of the pong tutorial, where you type in all of the code from this notebook into your own files as your run through the tutorial, and use this notebook as a reference.\n",
    "\n",
    "On that note, create a directory for the game and a file named main.py. The easiest way is probably to make your own notebook, and don't worry about setting up an IDE that plays nice with KV Lang at this point. However, if you'd like to use something else, check out https://github.com/kivy/kivy/wiki/Setting-Up-Kivy-with-various-popular-IDE's.\n"
   ]
  },
  {
   "cell_type": "code",
   "execution_count": null,
   "metadata": {
    "collapsed": false
   },
   "outputs": [],
   "source": [
    "# show the directory I'm in\n",
    "!pwd"
   ]
  },
  {
   "cell_type": "markdown",
   "metadata": {},
   "source": [
    "Recall that we're using\n",
    "```python    \n",
    "%%file filename.ext\n",
    "```\n",
    "at the top of the cell to write the contents of the cell to `filename.ext`, in this case, `main.py`."
   ]
  },
  {
   "cell_type": "code",
   "execution_count": null,
   "metadata": {
    "collapsed": false
   },
   "outputs": [],
   "source": [
    "%%file main.py\n",
    "\n",
    "from kivy.app import App\n",
    "from kivy.uix.widget import Widget\n",
    "\n",
    "class PongGame(Widget):\n",
    "    pass\n",
    "\n",
    "class PongApp(App):\n",
    "    def build(self):\n",
    "        return PongGame()\n",
    "    \n",
    "if __name__ == '__main__':\n",
    "    PongApp().run()"
   ]
  },
  {
   "cell_type": "markdown",
   "metadata": {},
   "source": [
    "Go ahead and run the application. It should just show a black window at this point. What we’ve done is create a very simple Kivy [`App`](https://kivy.org/docs/api-kivy.app.html#kivy.app.App), which creates an instance of the `PongGame` Widget class and returns it as the root element for the applications UI, which you should imagine at this point as a hierarchical tree of Widgets. Kivy places this widget-tree in the default Window. "
   ]
  },
  {
   "cell_type": "code",
   "execution_count": null,
   "metadata": {
    "collapsed": false
   },
   "outputs": [],
   "source": [
    "# run main.py\n",
    "!python main.py"
   ]
  },
  {
   "cell_type": "code",
   "execution_count": 78,
   "metadata": {
    "collapsed": false
   },
   "outputs": [
    {
     "data": {
      "text/html": [
       "<img src=\"screenshots/pong-1.png\" width=400 />"
      ],
      "text/plain": [
       "<IPython.core.display.HTML object>"
      ]
     },
     "metadata": {},
     "output_type": "display_data"
    }
   ],
   "source": [
    "%%html\n",
    "<img src=\"screenshots/pong-1.png\" width=400 />"
   ]
  },
  {
   "cell_type": "markdown",
   "metadata": {},
   "source": [
    "## Add Simple Graphics\n",
    "\n",
    "In the next step, we will draw the Pong background and scores by defining how the PongGame widget looks.\n",
    "\n",
    "We will use a .kv file to define the look and feel of the PongGame class. Since our [`App`](https://kivy.org/docs/api-kivy.app.html#kivy.app.App) class is called `PongApp`, we can simply create a file called `pong.kv` in the same directory that will be automatically loaded when the application is run. So create a new file called ``pong.kv`` and add the following contents. (The contents of the cell will be explained below). "
   ]
  },
  {
   "cell_type": "code",
   "execution_count": null,
   "metadata": {
    "collapsed": false
   },
   "outputs": [],
   "source": [
    "%%file pong.kv\n",
    "\n",
    "#:kivy 1.0.9\n",
    "\n",
    "<PongGame>:\n",
    "    canvas:\n",
    "        Rectangle:\n",
    "            pos: self.center_x - 5, 0\n",
    "            size: 10, self.height               \n",
    "    Label:\n",
    "        font_size: 70  \n",
    "        center_x: root.width / 4\n",
    "        top: root.top - 50\n",
    "        text: \"0\"\n",
    "        \n",
    "    Label:\n",
    "        font_size: 70  \n",
    "        center_x: root.width * 3 / 4\n",
    "        top: root.top - 50\n",
    "        text: \"0\""
   ]
  },
  {
   "cell_type": "markdown",
   "metadata": {},
   "source": [
    "**COMMON ERROR**: The name of the kv file, e.g. pong.kv, must match the name of the app, e.g. PongApp (the part before the App ending).\n",
    "\n",
    "\n",
    "Run the app again now, you should see a vertical bar in the middle, and two zeros where the player scores will be displayed."
   ]
  },
  {
   "cell_type": "code",
   "execution_count": null,
   "metadata": {
    "collapsed": false
   },
   "outputs": [],
   "source": [
    "!python main.py"
   ]
  },
  {
   "cell_type": "code",
   "execution_count": 77,
   "metadata": {
    "collapsed": false
   },
   "outputs": [
    {
     "data": {
      "text/html": [
       "<img src=\"screenshots/pong-2.png\" width=400 />"
      ],
      "text/plain": [
       "<IPython.core.display.HTML object>"
      ]
     },
     "metadata": {},
     "output_type": "display_data"
    }
   ],
   "source": [
    "%%html\n",
    "<img src=\"screenshots/pong-2.png\" width=400 />"
   ]
  },
  {
   "cell_type": "markdown",
   "metadata": {},
   "source": [
    "## Explaining the Kv File Syntax\n",
    "\n",
    "Before going on to the next step, you might want to take a closer look at the contents of the kv file we just created and figure out what is going on. The .kv file is a KVLang file. It will make the layout a lot easier to work with. It creates Kivy properties which have a lot of \"magical\" features (e.g. automatic event handlers) that make the Kivy app work (e.g. auto resizing). \n",
    "\n",
    "On the very first line we have:\n",
    "```python\n",
    "#:kivy 1.0.9\n",
    "```\n",
    "This first line is required in every kv file. It should start with `#:kivy` followed by a space and the Kivy version it is intended for (so Kivy can make sure you have at least the required version, or handle backwards compatibility later on).\n",
    "\n",
    "After that, we begin defining rules that are applied to all `PongGame` instances:\n",
    "```python\n",
    "    <PongGame>:\n",
    "        ...\n",
    "```\n",
    "Like Python, kv files use indentation to define nested blocks. A block defined with a class name inside the `<` and `>` characters is a [`Widget`](https://kivy.org/docs/api-kivy.uix.widget.html#kivy.uix.widget.Widget) rule. It will be applied to any instance of the named class. If you replaced `PongGame` with `Widget` in our example, all Widget instances would have the vertical line and the two Label widgets inside them because it would define these rules for all Widget instances.\n"
   ]
  },
  {
   "cell_type": "markdown",
   "metadata": {},
   "source": [
    "**TODO**\n",
    "The above explanation is a bit misleading and confusing in its terminology. Fix it!!"
   ]
  },
  {
   "cell_type": "markdown",
   "metadata": {},
   "source": [
    "Inside a rule section, you can add various blocks to define the style and contents of the widgets they will be applied to. You can:\n",
    "\n",
    "* set property values,\n",
    "* add child widgets\n",
    "* define a *canvas*section in which you can add Graphics instructions that define how the widget is rendered.\n",
    "\n",
    "The first block inside the `<PongGame>` rule we have is a *canvas* block:\n",
    "\n",
    "```python\n",
    "<PongGame>:\n",
    "    canvas:\n",
    "        Rectangle:\n",
    "            pos: self.center_x - 5, 0\n",
    "            size: 10, self.height\n",
    "```\n",
    "\n",
    "So this canvas block says that the PongGame widget should draw some graphics primitives. In this case, we add a rectangle to the canvas. We set the *pos* of the rectangle to be 5 pixels left of the horizontal center of the widget, and 0 for *y*. The size of the rectangle is set to 10 pixels in width, and the widget’s height in height. The nice thing about defining the graphics like this, is that the rendered rectangle will be automatically updated when the properties of any widgets used in the value expression change.\n",
    "\n",
    "**Note**\n",
    "Try to resize the application window and notice what happens. That’s right, the entire UI resizes automatically. The standard behaviour of the Window is to resize an element based on its property *size_hint*. The default widget size_hint is (1,1), meaning it will be stretched 100% in both x-direction and y-direction and hence fill the available space. Since the *pos* and *size* of the rectangle, together with the *center_x* and *top* of the score labels were defined within the context of the `PongGame` class, these properties will automatically update when the corresponding widget properties change. Using the Kv language gives you automatic property binding. :)\n",
    "\n",
    "\n",
    "The last two sections we add look pretty similar. Each of them adds a `Label` widget as a child widget to the `PongGame` widget. For now, the text on both of them is just set to “0”. We’ll hook that up to the actual score once we have the logic implemented, but the labels already look good since we set a bigger *font_size*, and positioned them relatively to the root widget. The `root` keyword can be used inside the child block to refer back to the parent/root widget the rule applies to (`PongGame` in this case):\n",
    "```python\n",
    "<PongGame>:\n",
    "    # ...\n",
    "\n",
    "    Label:\n",
    "        font_size: 70\n",
    "        center_x: root.width / 4\n",
    "        top: root.top - 50\n",
    "        text: \"0\"\n",
    "\n",
    "    Label:\n",
    "        font_size: 70\n",
    "        center_x: root.width * 3 / 4\n",
    "        top: root.top - 50\n",
    "        text: \"0\"\n",
    "```"
   ]
  },
  {
   "cell_type": "markdown",
   "metadata": {},
   "source": [
    "For more on the Kv language and files, see https://kivy.org/docs/guide/lang.html."
   ]
  },
  {
   "cell_type": "markdown",
   "metadata": {
    "collapsed": true
   },
   "source": [
    "## Add the Ball\n",
    "Ok, so we have a basic pong arena to play in, but we still need the players and a ball to hit around. Let’s start with the ball. We’ll add a new `PongBall class` to create a widget that will be our ball and make it bounce around.\n",
    "\n",
    "Here is the Python code for the `PongBall` class (to be added to `main.py`):\n",
    "```python\n",
    "\n",
    "from kivy.properties import NumericProperty, ReferenceListProperty\n",
    "from kivy.vector import Vector\n",
    "\n",
    "...\n",
    "\n",
    "class PongBall(Widget):\n",
    "\n",
    "    # velocity of the ball on x and y axis\n",
    "    velocity_x = NumericProperty(0)\n",
    "    velocity_y = NumericProperty(0)\n",
    "\n",
    "    # referencelist property so we can use ball.velocity as\n",
    "    # a shorthand, just like e.g. w.pos for w.x and w.y\n",
    "    velocity = ReferenceListProperty(velocity_x, velocity_y)\n",
    "\n",
    "    # ``move`` function will move the ball one step. This\n",
    "    #  will be called in equal intervals to animate the ball\n",
    "    def move(self):\n",
    "        self.pos = Vector(*self.velocity) + self.pos\n",
    "```"
   ]
  },
  {
   "cell_type": "markdown",
   "metadata": {},
   "source": [
    "To make it all work, you also have to add the imports for the [Properties](https://kivy.org/docs/api-kivy.properties.html) `Property` classes used and the [`Vector`](https://kivy.org/docs/api-kivy.vector.html#kivy.vector.Vector).\n",
    "\n",
    "Altogether that gives:"
   ]
  },
  {
   "cell_type": "code",
   "execution_count": null,
   "metadata": {
    "collapsed": false
   },
   "outputs": [],
   "source": [
    "%%file main.py\n",
    "\n",
    "from kivy.app import App\n",
    "from kivy.uix.widget import Widget\n",
    "from kivy.properties import NumericProperty, ReferenceListProperty\n",
    "from kivy.vector import Vector\n",
    "\n",
    "class PongBall(Widget):\n",
    "\n",
    "    # velocity of the ball on x and y axis\n",
    "    velocity_x = NumericProperty(0)\n",
    "    velocity_y = NumericProperty(0)\n",
    "\n",
    "    # referencelist property so we can use ball.velocity as\n",
    "    # a shorthand, just like e.g. w.pos for w.x and w.y\n",
    "    velocity = ReferenceListProperty(velocity_x, velocity_y)\n",
    "\n",
    "    # ``move`` function will move the ball one step. This\n",
    "    #  will be called in equal intervals to animate the ball\n",
    "    def move(self):\n",
    "        self.pos = Vector(*self.velocity) + self.pos\n",
    "        \n",
    "class PongGame(Widget):\n",
    "    pass\n",
    "\n",
    "class PongApp(App):\n",
    "    def build(self):\n",
    "        return PongGame()\n",
    "    \n",
    "if __name__ == '__main__':\n",
    "    PongApp().run()"
   ]
  },
  {
   "cell_type": "markdown",
   "metadata": {},
   "source": [
    "And here is the kv rule (to add to the kv file) used to style `PongBall` and to draw the ball as a white circle:\n",
    "\n",
    "```python\n",
    "<PongBall>:\n",
    "    size: 50, 50\n",
    "    canvas:\n",
    "        Ellipse:\n",
    "            pos: self.pos\n",
    "            size: self.size\n",
    "```\n",
    "\n",
    "Note below that we also want make `PongBall` a child widget of the `PongGame` widget rule. We do this by adding `PongBall` to the `<PongGame>` block. "
   ]
  },
  {
   "cell_type": "code",
   "execution_count": null,
   "metadata": {
    "collapsed": false
   },
   "outputs": [],
   "source": [
    "%%file pong.kv\n",
    "\n",
    "#:kivy 1.0.9\n",
    "\n",
    "<PongBall>:\n",
    "    size: 50, 50 \n",
    "    canvas:\n",
    "        Ellipse:\n",
    "            pos: self.pos\n",
    "            size: self.size          \n",
    "\n",
    "<PongGame>:\n",
    "    canvas:\n",
    "        Rectangle:\n",
    "            pos: self.center_x-5, 0\n",
    "            size: 10, self.height\n",
    "    \n",
    "    Label:\n",
    "        font_size: 70  \n",
    "        center_x: root.width / 4\n",
    "        top: root.top - 50\n",
    "        text: \"0\"\n",
    "        \n",
    "    Label:\n",
    "        font_size: 70  \n",
    "        center_x: root.width * 3 / 4\n",
    "        top: root.top - 50\n",
    "        text: \"0\"\n",
    "    \n",
    "    PongBall:\n",
    "        center: self.parent.center"
   ]
  },
  {
   "cell_type": "markdown",
   "metadata": {},
   "source": [
    "Now try things again!"
   ]
  },
  {
   "cell_type": "code",
   "execution_count": null,
   "metadata": {
    "collapsed": false
   },
   "outputs": [],
   "source": [
    "!python main.py"
   ]
  },
  {
   "cell_type": "code",
   "execution_count": 76,
   "metadata": {
    "collapsed": false
   },
   "outputs": [
    {
     "data": {
      "text/html": [
       "<img src=\"screenshots/pong-3.png\" width=400 />"
      ],
      "text/plain": [
       "<IPython.core.display.HTML object>"
      ]
     },
     "metadata": {},
     "output_type": "display_data"
    }
   ],
   "source": [
    "%%html\n",
    "<img src=\"screenshots/pong-3.png\" width=400 />"
   ]
  },
  {
   "cell_type": "markdown",
   "metadata": {},
   "source": [
    "## Adding Ball Animation\n",
    "\n",
    "Cool, so now we have a ball, and it even has a move function... but it’s not moving yet. Let’s fix that. \n",
    "\n",
    "### Scheduling Functions on the Clock\n",
    "\n",
    "We need the move method of our ball to be called regularly. Luckily, Kivy makes this pretty easy by letting us schedule any function we want using the [`Clock`](https://kivy.org/docs/api-kivy.clock.html#kivy.clock.Clock) and specifying the interval:\n",
    "\n",
    "    Clock.schedule_interval(game.update, 1.0/60.0)\n",
    "\n",
    "This line for example, would cause the update function of the game object to be called once every 60th of a second (60 times per second).\n",
    "\n",
    "### Object Properties/References\n",
    "\n",
    "We have another problem though. We’d like to make sure the `PongBall` has its move function called regularly, but in our code we don’t have any references to the ball object since we just added it via the kv file inside the kv rule for the `PongGame` class. The only reference to our game is the one we return in the applications build method.\n",
    "\n",
    "Since we’re going to have to do more than just move the ball (e.g. bounce it off the walls and later the players racket), we’ll probably need an update method for our `PongGame` class anyway. Furthermore, given that we have a reference to the game object already, we can easily schedule its new update method when the application gets built (`main.py`):\n",
    "```python\n",
    "from kivy.clock import Clock\n",
    "\n",
    "...\n",
    "\n",
    "class PongGame(Widget):\n",
    "\n",
    "    def update(self, dt):\n",
    "        # call ball.move and other stuff,\n",
    "        # recall that we already created a PongBall method, move()\n",
    "        pass\n",
    "\n",
    "class PongApp(App):\n",
    "\n",
    "    def build(self):\n",
    "        game = PongGame()\n",
    "        Clock.schedule_interval(game.update, 1.0/60.0)\n",
    "        return game\n",
    "```\n",
    "However, that still doesn’t change the fact that we don’t have a reference to the `PongBall` child widget created by the kv rule. To fix this, we can add an [`ObjectProperty`](https://kivy.org/docs/api-kivy.properties.html#kivy.properties.ObjectProperty) to the PongGame class, and hook it up to the widget created in the kv rule. Once that’s done, we can easily reference the ball property inside the `update` method and even make it bounce off the edges (`main.py`):\n",
    "```python\n",
    "from kivy.properties import NumericProperty, ReferenceListProperty,\\\n",
    "    ObjectProperty\n",
    "from kivy.clock import Clock\n",
    "\n",
    "  \n",
    "  ...\n",
    "  \n",
    "class PongGame(Widget):\n",
    "    ball = ObjectProperty(None)\n",
    "\n",
    "    def update(self, dt):\n",
    "        self.ball.move()\n",
    "\n",
    "        # bounce off top and bottom\n",
    "        if (self.ball.y < 0) or (self.ball.top > self.height):\n",
    "            self.ball.velocity_y *= -1\n",
    "\n",
    "        # bounce off left and right\n",
    "        if (self.ball.x < 0) or (self.ball.right > self.width):\n",
    "            self.ball.velocity_x *= -1\n",
    "```"
   ]
  },
  {
   "cell_type": "markdown",
   "metadata": {},
   "source": [
    "Don’t forget to hook it up in the kv file, by giving the child widget an id and setting the PongGame’s `ball` ObjectProperty to that id (`pong.kv`):\n",
    "```python\n",
    "<PongGame>:\n",
    "    ball: pong_ball\n",
    "\n",
    "    ... \n",
    "\n",
    "    PongBall:\n",
    "        id: pong_ball\n",
    "        center: self.parent.center\n",
    "```\n",
    "\n",
    "**Note**\n",
    "\n",
    "At this point everything is hooked up for the ball to bounce around. You might be wondering why the ball isn’t moving anywhere. The ball’s velocity is set to 0 on both x and y. "
   ]
  },
  {
   "cell_type": "markdown",
   "metadata": {},
   "source": [
    "To fix this, we add a `serve_ball` method to the `PongGame` class and call it in the app’s build method. It sets a random x and y velocity for the ball, and also resets the position, so we can use it later to reset the ball when a player has scored a point.\n",
    "\n",
    "```python\n",
    "from random import randint\n",
    "...\n",
    "class PongGame(Widget):\n",
    "    ball = ObjectProperty(None)\n",
    "\n",
    "    def serve_ball(self):\n",
    "        self.ball.center = self.center\n",
    "        ## take the velocity vector (v_x, v_y) = (4, 0) \n",
    "        ## and rotate it randomly to assign the initial velocity of the ball\n",
    "        self.ball.velocity = Vector(4, 0).rotate(randint(0, 360))\n",
    "...\n",
    "    \n",
    "class PongApp(App):\n",
    "    def build(self):\n",
    "        game = PongGame()\n",
    "        game.serve_ball()\n",
    "        Clock.schedule_interval(game.update, 1.0 / 60.0)\n",
    "        return game\n",
    "```\n",
    "\n",
    "Putting it all together, we get: "
   ]
  },
  {
   "cell_type": "code",
   "execution_count": null,
   "metadata": {
    "collapsed": false
   },
   "outputs": [],
   "source": [
    "%%file main.py\n",
    "\n",
    "from kivy.app import App\n",
    "from kivy.uix.widget import Widget\n",
    "from kivy.properties import NumericProperty, ReferenceListProperty,\\\n",
    "    ObjectProperty\n",
    "from kivy.vector import Vector\n",
    "from kivy.clock import Clock\n",
    "from random import randint\n",
    "\n",
    "\n",
    "class PongBall(Widget):\n",
    "    velocity_x = NumericProperty(0)\n",
    "    velocity_y = NumericProperty(0)\n",
    "    velocity = ReferenceListProperty(velocity_x, velocity_y)\n",
    "\n",
    "    def move(self):\n",
    "        self.pos = Vector(*self.velocity) + self.pos\n",
    "\n",
    "\n",
    "class PongGame(Widget):\n",
    "    ball = ObjectProperty(None)\n",
    "\n",
    "    def serve_ball(self):\n",
    "        self.ball.center = self.center\n",
    "        self.ball.velocity = Vector(4, 0).rotate(randint(0, 360))\n",
    "\n",
    "    def update(self, dt):\n",
    "        self.ball.move()\n",
    "\n",
    "        #bounce off top and bottom\n",
    "        if (self.ball.y < 0) or (self.ball.top > self.height):\n",
    "            self.ball.velocity_y *= -1\n",
    "\n",
    "        #bounce off left and right\n",
    "        if (self.ball.x < 0) or (self.ball.right > self.width):\n",
    "            self.ball.velocity_x *= -1\n",
    "\n",
    "\n",
    "class PongApp(App):\n",
    "    def build(self):\n",
    "        game = PongGame()\n",
    "        game.serve_ball()\n",
    "        Clock.schedule_interval(game.update, 1.0 / 60.0)\n",
    "        return game\n",
    "\n",
    "\n",
    "if __name__ == '__main__':\n",
    "    PongApp().run()"
   ]
  },
  {
   "cell_type": "code",
   "execution_count": null,
   "metadata": {
    "collapsed": false
   },
   "outputs": [],
   "source": [
    "%%file pong.kv\n",
    "\n",
    "#:kivy 1.0.9\n",
    "\n",
    "<PongBall>:\n",
    "    size: 50, 50 \n",
    "    canvas:\n",
    "        Ellipse:\n",
    "            pos: self.pos\n",
    "            size: self.size          \n",
    "\n",
    "<PongGame>:\n",
    "    ball: pong_ball\n",
    "    \n",
    "    canvas:\n",
    "        Rectangle:\n",
    "            pos: self.center_x-5, 0\n",
    "            size: 10, self.height\n",
    "    \n",
    "    Label:\n",
    "        font_size: 70  \n",
    "        center_x: root.width / 4\n",
    "        top: root.top - 50\n",
    "        text: \"0\"\n",
    "        \n",
    "    Label:\n",
    "        font_size: 70  \n",
    "        center_x: root.width * 3 / 4\n",
    "        top: root.top - 50\n",
    "        text: \"0\"\n",
    "    \n",
    "    PongBall:\n",
    "        id: pong_ball\n",
    "        center: self.parent.center\n",
    "        "
   ]
  },
  {
   "cell_type": "code",
   "execution_count": null,
   "metadata": {
    "collapsed": false
   },
   "outputs": [],
   "source": [
    "!python main.py"
   ]
  },
  {
   "cell_type": "code",
   "execution_count": 74,
   "metadata": {
    "collapsed": false
   },
   "outputs": [
    {
     "data": {
      "text/html": [
       "<img src=\"screenshots/pong-4.png\" width=400 />"
      ],
      "text/plain": [
       "<IPython.core.display.HTML object>"
      ]
     },
     "metadata": {},
     "output_type": "display_data"
    }
   ],
   "source": [
    "%%html\n",
    "<img src=\"screenshots/pong-4.png\" width=400 />"
   ]
  },
  {
   "cell_type": "markdown",
   "metadata": {},
   "source": [
    "## Connect Input Events\n",
    "\n",
    "Adding Players and reacting to touch input. \n",
    "\n",
    "Sweet, our ball is bouncing around. The only things missing now are the movable player rackets and keeping track of the score. We won’t go over all the details of creating the class and kv rules again, since those concepts were already covered in the previous steps. Instead, let’s focus on how to move the Player widgets in response to user input. You can get the whole code and kv rules for the `PongPaddle` class at the end of this section.\n",
    "\n",
    "In Kivy, a widget can react to input by implementing the [`on_touch_down`](https://kivy.org/docs/api-kivy.uix.widget.html#kivy.uix.widget.Widget.on_touch_down), the [`on_touch_move`](https://kivy.org/docs/api-kivy.uix.widget.html#kivy.uix.widget.Widget.on_touch_move) and the [`on_touch_up`](https://kivy.org/docs/api-kivy.uix.widget.html#kivy.uix.widget.Widget.on_touch_up) methods. By default, the Widget class implements these methods by just calling the corresponding method on all its child widgets to pass on the event until one of the children returns True.\n",
    "\n",
    "Pong is pretty simple. The rackets just need to move up and down. In fact it’s so simple, we don’t even really need to have the player widgets handle the events themselves. We’ll just implement the `on_touch_move` function for the `PongGame` class and have it set the position of the left or right player based on whether the touch occurred on the left or right side of the screen.\n",
    "\n",
    "Check the on_touch_move handler:\n",
    "\n",
    "```python\n",
    "def on_touch_move(self, touch):\n",
    "    if touch.x < self.width/3:\n",
    "        self.player1.center_y = touch.y\n",
    "    if touch.x > self.width - self.width/3:\n",
    "        self.player2.center_y = touch.y\n",
    "```"
   ]
  },
  {
   "cell_type": "markdown",
   "metadata": {},
   "source": [
    "We’ll keep the score for each player in a [`NumericProperty`](https://kivy.org/docs/api-kivy.properties.html#kivy.properties.NumericProperty). The score labels of the PongGame are kept updated by changing the NumericProperty score, which in turn updates the `PongGame` child labels text property. This binding occurs because [Kivy properties](https://kivy.org/docs/api-kivy.properties.html#module-kivy.properties) automatically bind to any references in their corresponding kv files. When the ball escapes out of the sides, we’ll update the score and serve the ball again by changing the update method in the `PongGame` class. The `PongPaddle` class also implements a `bounce_ball` method, so that the ball bounces differently based on where it hits the racket. \n",
    "\n",
    "We'll use the [`collide_widget()`](https://kivy.org/docs/api-kivy.uix.widget.html#kivy.uix.widget.Widget.collide_widget) method found in the Widget class to do collision detection for us. \n",
    "\n",
    "Here is the code for the `PongPaddle` class:\n",
    "\n",
    "```python\n",
    "class PongPaddle(Widget):\n",
    "\n",
    "    score = NumericProperty(0)\n",
    "\n",
    "    def bounce_ball(self, ball):\n",
    "        if self.collide_widget(ball):\n",
    "            vx, vy = ball.velocity\n",
    "            offset = (ball.center_y - self.center_y) / (self.height / 2)\n",
    "            ## multply the x-velocity by -1 to bounce the ball in the opposite x-direction\n",
    "            bounced = Vector(-1 * vx, vy)\n",
    "            vel = bounced * 1.1\n",
    "            ball.velocity = vel.x, vel.y + offset\n",
    "```"
   ]
  },
  {
   "cell_type": "markdown",
   "metadata": {},
   "source": [
    "**Note**\n",
    "This algorithm for ball bouncing is very simple, but will have strange behavior if the ball hits the paddle from the side or bottom...this is something you could try to fix yourself if you like.\n",
    "\n",
    "Altogether, we now have: "
   ]
  },
  {
   "cell_type": "code",
   "execution_count": null,
   "metadata": {
    "collapsed": false
   },
   "outputs": [],
   "source": [
    "%%file main.py\n",
    "\n",
    "from kivy.app import App\n",
    "from kivy.uix.widget import Widget\n",
    "from kivy.properties import NumericProperty, ReferenceListProperty,\\\n",
    "    ObjectProperty\n",
    "from kivy.vector import Vector\n",
    "from kivy.clock import Clock\n",
    "\n",
    "\n",
    "class PongPaddle(Widget):\n",
    "    score = NumericProperty(0)\n",
    "\n",
    "    def bounce_ball(self, ball):\n",
    "        if self.collide_widget(ball):\n",
    "            vx, vy = ball.velocity\n",
    "            offset = (ball.center_y - self.center_y) / (self.height / 2)\n",
    "            bounced = Vector(-1 * vx, vy)\n",
    "            vel = bounced * 1.1\n",
    "            ball.velocity = vel.x, vel.y + offset\n",
    "\n",
    "\n",
    "class PongBall(Widget):\n",
    "    velocity_x = NumericProperty(0)\n",
    "    velocity_y = NumericProperty(0)\n",
    "    velocity = ReferenceListProperty(velocity_x, velocity_y)\n",
    "\n",
    "    def move(self):\n",
    "        self.pos = Vector(*self.velocity) + self.pos\n",
    "\n",
    "\n",
    "class PongGame(Widget):\n",
    "    ball = ObjectProperty(None)\n",
    "    player1 = ObjectProperty(None)\n",
    "    player2 = ObjectProperty(None)\n",
    "\n",
    "    def serve_ball(self, vel=(4, 0)):\n",
    "        self.ball.center = self.center\n",
    "        self.ball.velocity = vel\n",
    "\n",
    "    def update(self, dt):\n",
    "        self.ball.move()\n",
    "\n",
    "        #bounce of paddles\n",
    "        self.player1.bounce_ball(self.ball)\n",
    "        self.player2.bounce_ball(self.ball)\n",
    "\n",
    "        #bounce ball off bottom or top\n",
    "        if (self.ball.y < self.y) or (self.ball.top > self.top):\n",
    "            self.ball.velocity_y *= -1\n",
    "\n",
    "        #went of to a side to score point?\n",
    "        if self.ball.x < self.x:\n",
    "            self.player2.score += 1\n",
    "            self.serve_ball(vel=(4, 0))\n",
    "        if self.ball.x > self.width:\n",
    "            self.player1.score += 1\n",
    "            self.serve_ball(vel=(-4, 0))\n",
    "\n",
    "    def on_touch_move(self, touch):\n",
    "        if touch.x < self.width / 3:\n",
    "            self.player1.center_y = touch.y\n",
    "        if touch.x > self.width - self.width / 3:\n",
    "            self.player2.center_y = touch.y\n",
    "\n",
    "\n",
    "class PongApp(App):\n",
    "    def build(self):\n",
    "        game = PongGame()\n",
    "        game.serve_ball()\n",
    "        Clock.schedule_interval(game.update, 1.0 / 60.0)\n",
    "        return game\n",
    "\n",
    "\n",
    "if __name__ == '__main__':\n",
    "    PongApp().run()"
   ]
  },
  {
   "cell_type": "code",
   "execution_count": null,
   "metadata": {
    "collapsed": false
   },
   "outputs": [],
   "source": [
    "%%file pong.kv\n",
    "\n",
    "#:kivy 1.0.9\n",
    "\n",
    "<PongBall>:\n",
    "    size: 50, 50 \n",
    "    canvas:\n",
    "        Ellipse:\n",
    "            pos: self.pos\n",
    "            size: self.size          \n",
    "\n",
    "<PongPaddle>:\n",
    "    size: 25, 200\n",
    "    canvas:\n",
    "        Rectangle:\n",
    "            pos:self.pos\n",
    "            size:self.size\n",
    "\n",
    "<PongGame>:\n",
    "    ball: pong_ball\n",
    "    player1: player_left\n",
    "    player2: player_right\n",
    "    \n",
    "    canvas:\n",
    "        Rectangle:\n",
    "            pos: self.center_x-5, 0\n",
    "            size: 10, self.height\n",
    "    \n",
    "    Label:\n",
    "        font_size: 70  \n",
    "        center_x: root.width / 4\n",
    "        top: root.top - 50\n",
    "        text: str(root.player1.score)\n",
    "        \n",
    "    Label:\n",
    "        font_size: 70  \n",
    "        center_x: root.width * 3 / 4\n",
    "        top: root.top - 50\n",
    "        text: str(root.player2.score)\n",
    "    \n",
    "    PongBall:\n",
    "        id: pong_ball\n",
    "        center: self.parent.center\n",
    "        \n",
    "    PongPaddle:\n",
    "        id: player_left\n",
    "        x: root.x\n",
    "        center_y: root.center_y\n",
    "        \n",
    "    PongPaddle:\n",
    "        id: player_right\n",
    "        x: root.width-self.width\n",
    "        center_y: root.center_y"
   ]
  },
  {
   "cell_type": "code",
   "execution_count": null,
   "metadata": {
    "collapsed": false
   },
   "outputs": [],
   "source": [
    "!python main.py"
   ]
  },
  {
   "cell_type": "code",
   "execution_count": 75,
   "metadata": {
    "collapsed": false
   },
   "outputs": [
    {
     "data": {
      "text/html": [
       "<img src=\"screenshots/pong-5.png\" width=400 />"
      ],
      "text/plain": [
       "<IPython.core.display.HTML object>"
      ]
     },
     "metadata": {},
     "output_type": "display_data"
    }
   ],
   "source": [
    "%%html\n",
    "<img src=\"screenshots/pong-5.png\" width=400 />"
   ]
  },
  {
   "cell_type": "markdown",
   "metadata": {},
   "source": [
    "## Where To Go Now?\n",
    "\n",
    "Have some fun!!\n",
    "\n",
    "Here are a few ideas of things you could do next:\n",
    "\n",
    "* Add some nicer graphics / images. (Hint: check out the [`source`](https://kivy.org/docs/api-kivy.graphics.instructions.html#kivy.graphics.instructions.VertexInstruction.source) property on the graphics instructions like [`circle`](https://kivy.org/docs/api-kivy.graphics.html#kivy.graphics.Line.circle) or [`Rectangle`](https://kivy.org/docs/api-kivy.graphics.html#kivy.graphics.Rectangle), to set an image as the texture.)\n",
    "* Make the game end after a certain score. Maybe once a player has 10 points, you can display a large “PLAYER 1 WINS” label and/or add a main menu to start, pause and reset the game. (Hint: check out the [`Button`](https://kivy.org/docs/api-kivy.uix.button.html#kivy.uix.button.Button) and [`Label`](https://kivy.org/docs/api-kivy.uix.label.html#kivy.uix.label.Label) classes, and figure out how to use their *add_widget* and *remove_widget* functions to add or remove widgets dynamically.\n",
    "* Make it a 4 player Pong Game. Most tablets have Multi-Touch support, so wouldn’t it be cool to have a player on each side and have four people play at the same time?\n",
    "* Fix the simplistic collision check so hitting the ball with an end of the paddle results in a more realistic bounce.\n",
    "* Hack in keyboard controls for the paddles (easier for play on a computer as a opposed to a touch device)\n",
    "* If you haven't yet looked at it, read up on the Kv language: https://kivy.org/docs/guide/lang.html.\n",
    "* Check out the projects on Game Camp for inspiration: https://github.com/learnleapfly/gamecamp/wiki/Pycon-2016-Project-List"
   ]
  },
  {
   "cell_type": "markdown",
   "metadata": {},
   "source": [
    "## Know issues with the pong tutorial\n",
    "\n",
    "* It can be a bit laggy. Not sure why. \n"
   ]
  }
 ],
 "metadata": {
  "kernelspec": {
   "display_name": "Python 2",
   "language": "python",
   "name": "python2"
  },
  "language_info": {
   "codemirror_mode": {
    "name": "ipython",
    "version": 2
   },
   "file_extension": ".py",
   "mimetype": "text/x-python",
   "name": "python",
   "nbconvert_exporter": "python",
   "pygments_lexer": "ipython2",
   "version": "2.7.11"
  }
 },
 "nbformat": 4,
 "nbformat_minor": 0
}
