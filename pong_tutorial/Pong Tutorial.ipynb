{
 "cells": [
  {
   "cell_type": "markdown",
   "metadata": {},
   "source": [
    "# Pong Tutorial\n",
    "\n",
    "See https://kivy.org/docs/tutorials/pong.html for the original. \n",
    "\n",
    "First off, you'll need to make sure that you have Kivy installed. \n",
    "\n",
    "**TODO** Insert instructions here for where to go for Kivy installation instructions. \n",
    "\n",
    "**NEXT** Basic notebook instructions."
   ]
  },
  {
   "cell_type": "markdown",
   "metadata": {},
   "source": [
    "## Getting Started\n",
    "\n",
    "Let’s start by getting a really simple Kivy app up and running. Create a directory for the game and a file named main.py\n",
    "\n",
    "We recommend creating **your own version** of the pong tutorial, where you type in all of the code from this notebook into your own files as your run through the tutorial.  \n",
    "\n",
    "Recall that the cell magic \n",
    "\n",
    "    !stuff\n",
    "    \n",
    "is equivalent to running \n",
    "\n",
    "    stuff\n",
    "\n",
    "at the command line. \n"
   ]
  },
  {
   "cell_type": "code",
   "execution_count": 9,
   "metadata": {
    "collapsed": false
   },
   "outputs": [
    {
     "name": "stdout",
     "output_type": "stream",
     "text": [
      "/Users/amywooding/python-code/gamecamp/pong_tutorial\r\n"
     ]
    }
   ],
   "source": [
    "# show the directory I'm in\n",
    "!pwd"
   ]
  },
  {
   "cell_type": "markdown",
   "metadata": {},
   "source": [
    "We'll use the \"cell magic\" \n",
    "    \n",
    "    %%file filename.extension\n",
    "\n",
    "at the top of the cell to write the contents of the cell to `filename.extension`. "
   ]
  },
  {
   "cell_type": "code",
   "execution_count": 22,
   "metadata": {
    "collapsed": false
   },
   "outputs": [
    {
     "name": "stdout",
     "output_type": "stream",
     "text": [
      "Overwriting main.py\n"
     ]
    }
   ],
   "source": [
    "%%file main.py\n",
    "\n",
    "from kivy.app import App\n",
    "from kivy.uix.widget import Widget\n",
    "\n",
    "class PongGame(Widget):\n",
    "    pass\n",
    "\n",
    "class PongApp(App):\n",
    "    def build(self):\n",
    "        return Widget()\n",
    "    \n",
    "if __name__ == '__main__':\n",
    "    PongApp().run()"
   ]
  },
  {
   "cell_type": "markdown",
   "metadata": {},
   "source": [
    "Go ahead and run the application. It should just show a black window at this point. What we’ve done is create a very simple Kivy [`App`](https://kivy.org/docs/api-kivy.app.html#kivy.app.App), which creates an instance of the `PongGame` Widget class and returns it as the root element for the applications UI, which you should imagine at this point as a hierarchical tree of Widgets. Kivy places this widget-tree in the default Window. "
   ]
  },
  {
   "cell_type": "code",
   "execution_count": 10,
   "metadata": {
    "collapsed": false
   },
   "outputs": [
    {
     "name": "stdout",
     "output_type": "stream",
     "text": [
      "[INFO              ] [Logger      ] Record log in /Users/amywooding/.kivy/logs/kivy_16-07-15_1.txt\n",
      "[INFO              ] [Kivy        ] v1.9.2-dev0\n",
      "[INFO              ] [Python      ] v2.7.11 |Continuum Analytics, Inc.| (default, Dec  6 2015, 18:57:58) \n",
      "[GCC 4.2.1 (Apple Inc. build 5577)]\n",
      "[INFO              ] [Factory     ] 193 symbols loaded\n",
      "[DEBUG             ] [Cache       ] register <kv.lang> with limit=None, timeout=None\n",
      "[DEBUG             ] [Cache       ] register <kv.image> with limit=None, timeout=60\n",
      "[DEBUG             ] [Cache       ] register <kv.atlas> with limit=None, timeout=None\n",
      "[INFO              ] [Image       ] Providers: img_tex, img_imageio, img_dds, img_gif, img_sdl2, img_pil (img_ffpyplayer ignored)\n",
      "[DEBUG             ] [Cache       ] register <kv.texture> with limit=1000, timeout=60\n",
      "[DEBUG             ] [Cache       ] register <kv.shader> with limit=1000, timeout=3600\n",
      "[DEBUG             ] [App         ] Loading kv <./pong.kv>\n",
      "[DEBUG             ] [App         ] kv <./pong.kv> not found\n",
      "[INFO              ] [OSC         ] using <multiprocessing> for socket\n",
      "[INFO              ] [Window      ] Provider: sdl2\n",
      "[INFO              ] [GL          ] OpenGL version <2.1 INTEL-10.14.66>\n",
      "[INFO              ] [GL          ] OpenGL vendor <Intel Inc.>\n",
      "[INFO              ] [GL          ] OpenGL renderer <Intel(R) Iris(TM) Graphics 6100>\n",
      "[INFO              ] [GL          ] OpenGL parsed version: 2, 1\n",
      "[INFO              ] [GL          ] Shading version <1.20>\n",
      "[INFO              ] [GL          ] Texture max size <16384>\n",
      "[INFO              ] [GL          ] Texture max units <16>\n",
      "[DEBUG             ] [Shader      ] Fragment compiled successfully\n",
      "[DEBUG             ] [Shader      ] Vertex compiled successfully\n",
      "[DEBUG             ] [ImageImageIO] Load </Users/amywooding/python-code/LLF/git/kivy/kivy/data/glsl/default.png>\n",
      "[INFO              ] [Window      ] auto add sdl2 input provider\n",
      "[INFO              ] [Window      ] virtual keyboard not allowed, single mode, not docked\n",
      "[DEBUG             ] [Base        ] Create provider from mouse\n",
      "[INFO              ] [Base        ] Start application main loop\n",
      "[INFO              ] [Base        ] Leaving application in progress...\n"
     ]
    }
   ],
   "source": [
    "# run main.py\n",
    "!python main.py"
   ]
  },
  {
   "cell_type": "markdown",
   "metadata": {},
   "source": [
    "## Add Simple Graphics\n",
    "\n",
    "In the next step, we will draw the Pong background and scores by defining how the PongGame widget looks.\n",
    "\n",
    "We will use a .kv file to define the look and feel of the PongGame class. Since our [`App`](https://kivy.org/docs/api-kivy.app.html#kivy.app.App) class is called `PongApp`, we can simply create a file called `pong.kv` in the same directory that will be automatically loaded when the application is run. So create a new file called ``pong.kv`` and add the following contents. (The contents of the cell will be explained below). "
   ]
  },
  {
   "cell_type": "code",
   "execution_count": 39,
   "metadata": {
    "collapsed": false
   },
   "outputs": [
    {
     "name": "stdout",
     "output_type": "stream",
     "text": [
      "Overwriting pong.kv\n"
     ]
    }
   ],
   "source": [
    "%%file pong.kv\n",
    "\n",
    "#:kivy 1.0.9\n",
    "\n",
    "<PongGame>:\n",
    "    canvas:\n",
    "        Rectangle:\n",
    "            pos: self.center_x - 5, 0\n",
    "            size: 10, self.height               \n",
    "    Label:\n",
    "        font_size: 70  \n",
    "        center_x: root.width / 4\n",
    "        top: root.top - 50\n",
    "        text: \"0\"\n",
    "        \n",
    "    Label:\n",
    "        font_size: 70  \n",
    "        center_x: root.width * 3 / 4\n",
    "        top: root.top - 50\n",
    "        text: \"0\""
   ]
  },
  {
   "cell_type": "markdown",
   "metadata": {},
   "source": [
    "**COMMON ERROR**: The name of the kv file, e.g. pong.kv, must match the name of the app, e.g. PongApp (the part before the App ending).\n",
    "\n",
    "\n",
    "Run the app again now, you should see a vertical bar in the middle, and two zeros where the player scores will be displayed."
   ]
  },
  {
   "cell_type": "code",
   "execution_count": 40,
   "metadata": {
    "collapsed": false
   },
   "outputs": [
    {
     "name": "stdout",
     "output_type": "stream",
     "text": [
      "[INFO              ] [Logger      ] Record log in /Users/amywooding/.kivy/logs/kivy_16-07-15_14.txt\n",
      "[INFO              ] [Kivy        ] v1.9.2-dev0\n",
      "[INFO              ] [Python      ] v2.7.11 |Continuum Analytics, Inc.| (default, Dec  6 2015, 18:57:58) \n",
      "[GCC 4.2.1 (Apple Inc. build 5577)]\n",
      "[INFO              ] [Factory     ] 193 symbols loaded\n",
      "[DEBUG             ] [Cache       ] register <kv.lang> with limit=None, timeout=None\n",
      "[DEBUG             ] [Cache       ] register <kv.image> with limit=None, timeout=60\n",
      "[DEBUG             ] [Cache       ] register <kv.atlas> with limit=None, timeout=None\n",
      "[INFO              ] [Image       ] Providers: img_tex, img_imageio, img_dds, img_gif, img_sdl2, img_pil (img_ffpyplayer ignored)\n",
      "[DEBUG             ] [Cache       ] register <kv.texture> with limit=1000, timeout=60\n",
      "[DEBUG             ] [Cache       ] register <kv.shader> with limit=1000, timeout=3600\n",
      "[DEBUG             ] [App         ] Loading kv <./pong.kv>\n",
      "[INFO              ] [OSC         ] using <multiprocessing> for socket\n",
      "[INFO              ] [Window      ] Provider: sdl2\n",
      "[INFO              ] [GL          ] OpenGL version <2.1 INTEL-10.14.66>\n",
      "[INFO              ] [GL          ] OpenGL vendor <Intel Inc.>\n",
      "[INFO              ] [GL          ] OpenGL renderer <Intel(R) Iris(TM) Graphics 6100>\n",
      "[INFO              ] [GL          ] OpenGL parsed version: 2, 1\n",
      "[INFO              ] [GL          ] Shading version <1.20>\n",
      "[INFO              ] [GL          ] Texture max size <16384>\n",
      "[INFO              ] [GL          ] Texture max units <16>\n",
      "[DEBUG             ] [Shader      ] Fragment compiled successfully\n",
      "[DEBUG             ] [Shader      ] Vertex compiled successfully\n",
      "[DEBUG             ] [ImageImageIO] Load </Users/amywooding/python-code/LLF/git/kivy/kivy/data/glsl/default.png>\n",
      "[INFO              ] [Window      ] auto add sdl2 input provider\n",
      "[INFO              ] [Window      ] virtual keyboard not allowed, single mode, not docked\n",
      "[DEBUG             ] [Base        ] Create provider from mouse\n",
      "[INFO              ] [Base        ] Start application main loop\n",
      "[INFO              ] [Base        ] Leaving application in progress...\n"
     ]
    }
   ],
   "source": [
    "!python main.py"
   ]
  },
  {
   "cell_type": "markdown",
   "metadata": {},
   "source": [
    "## Explaining the Kv File Syntax\n",
    "\n",
    "Before going on to the next step, you might want to take a closer look at the contents of the kv file we just created and figure out what is going on. If you understand what’s happening, you can probably skip ahead to the next step.\n",
    "\n",
    "On the very first line we have:\n",
    "```python\n",
    "#:kivy 1.0.9\n",
    "```\n",
    "This first line is required in every kv file. It should start with `#:kivy` followed by a space and the Kivy version it is intended for (so Kivy can make sure you have at least the required version, or handle backwards compatibility later on).\n",
    "\n",
    "After that, we begin defining rules that are applied to all `PongGame` instances:\n",
    "```python\n",
    "    <PongGame>:\n",
    "        ...\n",
    "```\n",
    "Like Python, kv files use indentation to define nested blocks. A block defined with a class name inside the `<` and `>` characters is a [`Widget`](https://kivy.org/docs/api-kivy.uix.widget.html#kivy.uix.widget.Widget) rule. It will be applied to any instance of the named class. If you replaced `PongGame` with `Widget` in our example, all Widget instances would have the vertical line and the two Label widgets inside them because it would define these rules for all Widget instances.\n"
   ]
  },
  {
   "cell_type": "code",
   "execution_count": null,
   "metadata": {
    "collapsed": true
   },
   "outputs": [],
   "source": []
  },
  {
   "cell_type": "code",
   "execution_count": null,
   "metadata": {
    "collapsed": true
   },
   "outputs": [],
   "source": []
  },
  {
   "cell_type": "code",
   "execution_count": null,
   "metadata": {
    "collapsed": true
   },
   "outputs": [],
   "source": []
  },
  {
   "cell_type": "markdown",
   "metadata": {},
   "source": [
    "Inside a rule section, you can add various blocks to define the style and contents of the widgets they will be applied to. You can:\n",
    "\n",
    "* set property values,\n",
    "* add child widgets\n",
    "* define a *canvas*section in which you can add Graphics instructions that define how the widget is rendered.\n",
    "\n",
    "The first block inside the `<PongGame>` rule we have is a *canvas* block:\n",
    "\n",
    "```python\n",
    "<PongGame>:\n",
    "    canvas:\n",
    "        Rectangle:\n",
    "            pos: self.center_x - 5, 0\n",
    "            size: 10, self.height\n",
    "```\n",
    "\n",
    "So this canvas block says that the PongGame widget should draw some graphics primitives. In this case, we add a rectangle to the canvas. We set the *pos* of the rectangle to be 5 pixels left of the horizontal center of the widget, and 0 for *y*. The size of the rectangle is set to 10 pixels in width, and the widget’s height in height. The nice thing about defining the graphics like this, is that the rendered rectangle will be automatically updated when the properties of any widgets used in the value expression change.\n",
    "\n",
    "**Note**\n",
    "Try to resize the application window and notice what happens. That’s right, the entire UI resizes automatically. The standard behaviour of the Window is to resize an element based on its property *size_hint*. The default widget size_hint is (1,1), meaning it will be stretched 100% in both x-direction and y-direction and hence fill the available space. Since the *pos* and *size* of the rectangle, together with the *center_x* and *top* of the score labels were defined within the context of the `PongGame` class, these properties will automatically update when the corresponding widget properties change. Using the Kv language gives you automatic property binding. :)\n",
    "\n",
    "\n",
    "The last two sections we add look pretty similar. Each of them adds a `Label` widget as a child widget to the `PongGame` widget. For now, the text on both of them is just set to “0”. We’ll hook that up to the actual score once we have the logic implemented, but the labels already look good since we set a bigger *font_size*, and positioned them relatively to the root widget. The `root` keyword can be used inside the child block to refer back to the parent/root widget the rule applies to (`PongGame` in this case):\n",
    "```python\n",
    "<PongGame>:\n",
    "    # ...\n",
    "\n",
    "    Label:\n",
    "        font_size: 70\n",
    "        center_x: root.width / 4\n",
    "        top: root.top - 50\n",
    "        text: \"0\"\n",
    "\n",
    "    Label:\n",
    "        font_size: 70\n",
    "        center_x: root.width * 3 / 4\n",
    "        top: root.top - 50\n",
    "        text: \"0\"\n",
    "```"
   ]
  },
  {
   "cell_type": "code",
   "execution_count": null,
   "metadata": {
    "collapsed": true
   },
   "outputs": [],
   "source": []
  },
  {
   "cell_type": "code",
   "execution_count": null,
   "metadata": {
    "collapsed": true
   },
   "outputs": [],
   "source": []
  },
  {
   "cell_type": "code",
   "execution_count": null,
   "metadata": {
    "collapsed": true
   },
   "outputs": [],
   "source": []
  },
  {
   "cell_type": "code",
   "execution_count": null,
   "metadata": {
    "collapsed": true
   },
   "outputs": [],
   "source": []
  },
  {
   "cell_type": "code",
   "execution_count": null,
   "metadata": {
    "collapsed": true
   },
   "outputs": [],
   "source": []
  },
  {
   "cell_type": "code",
   "execution_count": null,
   "metadata": {
    "collapsed": true
   },
   "outputs": [],
   "source": []
  }
 ],
 "metadata": {
  "kernelspec": {
   "display_name": "Python 2",
   "language": "python",
   "name": "python2"
  },
  "language_info": {
   "codemirror_mode": {
    "name": "ipython",
    "version": 2
   },
   "file_extension": ".py",
   "mimetype": "text/x-python",
   "name": "python",
   "nbconvert_exporter": "python",
   "pygments_lexer": "ipython2",
   "version": "2.7.11"
  }
 },
 "nbformat": 4,
 "nbformat_minor": 0
}
